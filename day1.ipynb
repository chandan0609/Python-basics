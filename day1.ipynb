{
 "cells": [
  {
   "cell_type": "code",
   "execution_count": 1,
   "id": "074258fa",
   "metadata": {},
   "outputs": [
    {
     "data": {
      "text/plain": [
       "int"
      ]
     },
     "execution_count": 1,
     "metadata": {},
     "output_type": "execute_result"
    }
   ],
   "source": [
    "x = 10\n",
    "type(x)"
   ]
  },
  {
   "cell_type": "code",
   "execution_count": 2,
   "id": "b61361a9",
   "metadata": {},
   "outputs": [],
   "source": [
    "a = 100\n"
   ]
  },
  {
   "cell_type": "code",
   "execution_count": 3,
   "id": "f1277cd4",
   "metadata": {},
   "outputs": [
    {
     "data": {
      "text/plain": [
       "int"
      ]
     },
     "execution_count": 3,
     "metadata": {},
     "output_type": "execute_result"
    }
   ],
   "source": [
    "type(a)"
   ]
  },
  {
   "cell_type": "code",
   "execution_count": 4,
   "id": "82665529",
   "metadata": {},
   "outputs": [
    {
     "data": {
      "text/plain": [
       "100.0"
      ]
     },
     "execution_count": 4,
     "metadata": {},
     "output_type": "execute_result"
    }
   ],
   "source": [
    "float(a)"
   ]
  },
  {
   "cell_type": "code",
   "execution_count": 5,
   "id": "eb5f22e9",
   "metadata": {},
   "outputs": [
    {
     "data": {
      "text/plain": [
       "int"
      ]
     },
     "execution_count": 5,
     "metadata": {},
     "output_type": "execute_result"
    }
   ],
   "source": [
    "type(a)"
   ]
  },
  {
   "cell_type": "code",
   "execution_count": 6,
   "id": "c17d16bf",
   "metadata": {},
   "outputs": [],
   "source": [
    "a = float(a)"
   ]
  },
  {
   "cell_type": "code",
   "execution_count": 7,
   "id": "e68b2608",
   "metadata": {},
   "outputs": [
    {
     "data": {
      "text/plain": [
       "float"
      ]
     },
     "execution_count": 7,
     "metadata": {},
     "output_type": "execute_result"
    }
   ],
   "source": [
    "type(a)"
   ]
  },
  {
   "cell_type": "code",
   "execution_count": 8,
   "id": "8cc1be9b",
   "metadata": {},
   "outputs": [
    {
     "data": {
      "text/plain": [
       "32"
      ]
     },
     "execution_count": 8,
     "metadata": {},
     "output_type": "execute_result"
    }
   ],
   "source": [
    "s = '12'\n",
    "s2 = 20\n",
    "s3 = s2 + int(s)\n",
    "s3"
   ]
  },
  {
   "cell_type": "code",
   "execution_count": 9,
   "id": "761c588e",
   "metadata": {},
   "outputs": [],
   "source": [
    "s4 = \"hello\" + \"world\""
   ]
  },
  {
   "cell_type": "code",
   "execution_count": 10,
   "id": "ef8c9bec",
   "metadata": {},
   "outputs": [
    {
     "name": "stdout",
     "output_type": "stream",
     "text": [
      "helloworld\n"
     ]
    }
   ],
   "source": [
    "print(s4)"
   ]
  },
  {
   "cell_type": "code",
   "execution_count": 11,
   "id": "06c940df",
   "metadata": {},
   "outputs": [
    {
     "name": "stdout",
     "output_type": "stream",
     "text": [
      "welcome chandan\n"
     ]
    }
   ],
   "source": [
    "name = input(\"enter your name\")\n",
    "print(\"welcome \" + name)\n"
   ]
  },
  {
   "cell_type": "code",
   "execution_count": 14,
   "id": "4e967bf0",
   "metadata": {},
   "outputs": [
    {
     "name": "stdout",
     "output_type": "stream",
     "text": [
      "the gross pay is  13420.5\n"
     ]
    }
   ],
   "source": [
    "hours = int(input(\"enter the hours of work \"))\n",
    "pay = float(input (\"enter the rate per hours \"))\n",
    "gross_pay = hours * pay;\n",
    "print(\"the gross pay is \" ,gross_pay)"
   ]
  },
  {
   "cell_type": "code",
   "execution_count": 16,
   "id": "ec992e7f",
   "metadata": {},
   "outputs": [
    {
     "name": "stdout",
     "output_type": "stream",
     "text": [
      "8\n",
      "8.5\n",
      "4.0\n"
     ]
    },
    {
     "data": {
      "text/plain": [
       "14.1"
      ]
     },
     "execution_count": 16,
     "metadata": {},
     "output_type": "execute_result"
    }
   ],
   "source": [
    "width = 17\n",
    "height = 12.0\n",
    "print(width//2)\n",
    "print(width/2.0)\n",
    "print(height/3)\n",
    "4.1 + 2 * 5"
   ]
  },
  {
   "cell_type": "code",
   "execution_count": 17,
   "id": "67108fc1",
   "metadata": {},
   "outputs": [
    {
     "name": "stdout",
     "output_type": "stream",
     "text": [
      "89.6\n"
     ]
    }
   ],
   "source": [
    "temp_in_celsius = float(input(\"enter the temperature in celsius\"))\n",
    "temp_in_farahneit=(temp_in_celsius*(9/5)+32)\n",
    "print(temp_in_farahneit)"
   ]
  },
  {
   "cell_type": "code",
   "execution_count": 18,
   "id": "cc55dc4b",
   "metadata": {},
   "outputs": [
    {
     "name": "stdout",
     "output_type": "stream",
     "text": [
      "not eligible to vote\n"
     ]
    }
   ],
   "source": [
    "age = input('enter age')\n",
    "if(float(age) >= 18):\n",
    "    print('elgible to vote')\n",
    "else:\n",
    "    print('not eligible to vote')"
   ]
  },
  {
   "cell_type": "code",
   "execution_count": 19,
   "id": "d4af7454",
   "metadata": {},
   "outputs": [
    {
     "name": "stdout",
     "output_type": "stream",
     "text": [
      "89 is greatest\n"
     ]
    }
   ],
   "source": [
    "num1 = input('enter a number')\n",
    "num2 = input('enter a number')\n",
    "if(float(num1) > float(num2)):\n",
    "    print(num1 + 'is greatest')\n",
    "else:\n",
    "    print(num2 + \" is greatest\")"
   ]
  },
  {
   "cell_type": "code",
   "execution_count": 21,
   "id": "05af12db",
   "metadata": {},
   "outputs": [
    {
     "name": "stdout",
     "output_type": "stream",
     "text": [
      "odd number\n"
     ]
    }
   ],
   "source": [
    "num = input('enter a number')\n",
    "if(int(num) % 2 == 0):\n",
    "    print(\"even number\")\n",
    "else:\n",
    "    print(\"odd number\")"
   ]
  },
  {
   "cell_type": "code",
   "execution_count": 23,
   "id": "32d10cc1",
   "metadata": {},
   "outputs": [
    {
     "name": "stdout",
     "output_type": "stream",
     "text": [
      "not vowels\n"
     ]
    }
   ],
   "source": [
    "vol_check = input(\"enter a character\")\n",
    "if(vol_check == 'a' or vol_check == 'e' or vol_check=='i' or\n",
    "    vol_check == 'o' or vol_check == 'u'):\n",
    "    print(\"vowels\")\n",
    "else:\n",
    "    print(\"not vowels\")"
   ]
  },
  {
   "cell_type": "code",
   "execution_count": 25,
   "id": "207814e2",
   "metadata": {},
   "outputs": [
    {
     "ename": "ValueError",
     "evalue": "could not convert string to float: ''",
     "output_type": "error",
     "traceback": [
      "\u001b[0;31m---------------------------------------------------------------------------\u001b[0m",
      "\u001b[0;31mValueError\u001b[0m                                Traceback (most recent call last)",
      "Cell \u001b[0;32mIn[25], line 1\u001b[0m\n\u001b[0;32m----> 1\u001b[0m subject1 \u001b[38;5;241m=\u001b[39m \u001b[38;5;28;43mfloat\u001b[39;49m\u001b[43m(\u001b[49m\u001b[38;5;28;43minput\u001b[39;49m\u001b[43m(\u001b[49m\u001b[38;5;124;43m\"\u001b[39;49m\u001b[38;5;124;43menter marks for subject 1: \u001b[39;49m\u001b[38;5;124;43m\"\u001b[39;49m\u001b[43m)\u001b[49m\u001b[43m)\u001b[49m\n\u001b[1;32m      2\u001b[0m subject2 \u001b[38;5;241m=\u001b[39m \u001b[38;5;28mfloat\u001b[39m(\u001b[38;5;28minput\u001b[39m(\u001b[38;5;124m\"\u001b[39m\u001b[38;5;124mEnter marks for subject 2\u001b[39m\u001b[38;5;124m\"\u001b[39m))\n\u001b[1;32m      3\u001b[0m subject3 \u001b[38;5;241m=\u001b[39m \u001b[38;5;28mfloat\u001b[39m(\u001b[38;5;28minput\u001b[39m(\u001b[38;5;124m\"\u001b[39m\u001b[38;5;124mEnter marks for subject 3\u001b[39m\u001b[38;5;124m\"\u001b[39m))\n",
      "\u001b[0;31mValueError\u001b[0m: could not convert string to float: ''"
     ]
    }
   ],
   "source": [
    "subject1 = float(input(\"enter marks for subject 1: \"))\n",
    "subject2 = float(input(\"Enter marks for subject 2\"))\n",
    "subject3 = float(input(\"Enter marks for subject 3\"))\n",
    "subject4 = float(input(\"Enter marks for subject 4\"))\n",
    "subject5 = float(input(\"Enter marks for subject 5\"))\n",
    "\n",
    "total_marks = subject1 + subject2 + subject3 + subject4 + subject5\n",
    "percentage = (total_marks/500) * 100\n",
    "\n",
    "if percentage >= 80:\n",
    "    print(\"grade A\")\n",
    "elif percentage >= 60:\n",
    "    print(\"grade B\")\n",
    "elif percentage >= 40:\n",
    "    print(\"grade C\")\n",
    "else:\n",
    "    print(\"fail\")\n"
   ]
  },
  {
   "cell_type": "code",
   "execution_count": 26,
   "id": "8c285463",
   "metadata": {},
   "outputs": [
    {
     "name": "stdout",
     "output_type": "stream",
     "text": [
      "num2 is the largest\n"
     ]
    }
   ],
   "source": [
    "num1 = int(input('enter the first number'))\n",
    "num2 = int(input(\"enter the second number\"))\n",
    "num3 = int(input(\"enter the third number\"))\n",
    "if num1 > num2 and num1 > num3:\n",
    "    print('num1 is the largest')\n",
    "elif num2 > num1 and num2 > num3:\n",
    "    print('num2 is the largest')\n",
    "else:\n",
    "    print('num3 is largest')"
   ]
  },
  {
   "cell_type": "code",
   "execution_count": 29,
   "id": "d6da87d4",
   "metadata": {},
   "outputs": [
    {
     "name": "stdout",
     "output_type": "stream",
     "text": [
      "apple\n",
      "banana\n",
      "cherry\n"
     ]
    }
   ],
   "source": [
    "fruits = [\"apple\", \"banana\",\"cherry\"]\n",
    "for fruit in fruits:\n",
    "    print(fruit)"
   ]
  },
  {
   "cell_type": "code",
   "execution_count": 27,
   "id": "cfd9d5ac",
   "metadata": {},
   "outputs": [
    {
     "name": "stdout",
     "output_type": "stream",
     "text": [
      "0\n",
      "1\n",
      "2\n",
      "3\n",
      "4\n"
     ]
    }
   ],
   "source": [
    "for i in range(5):\n",
    "    print(i)"
   ]
  },
  {
   "cell_type": "code",
   "execution_count": 28,
   "id": "948c596a",
   "metadata": {},
   "outputs": [
    {
     "name": "stdout",
     "output_type": "stream",
     "text": [
      "count is 1\n",
      "count is 2\n",
      "count is 3\n",
      "count is 4\n",
      "count is 5\n"
     ]
    }
   ],
   "source": [
    "count = 1\n",
    "while count <= 5:\n",
    "    print(\"count is\",count)\n",
    "    count += 1"
   ]
  },
  {
   "cell_type": "code",
   "execution_count": 30,
   "id": "cb86e5e7",
   "metadata": {},
   "outputs": [
    {
     "name": "stdout",
     "output_type": "stream",
     "text": [
      "1\n",
      "2\n",
      "4\n"
     ]
    }
   ],
   "source": [
    "for i in range (1,6):\n",
    "    if i == 3:\n",
    "        continue\n",
    "    if i == 5:\n",
    "        break\n",
    "    print(i)"
   ]
  },
  {
   "cell_type": "code",
   "execution_count": 31,
   "id": "1caba006",
   "metadata": {},
   "outputs": [
    {
     "name": "stdout",
     "output_type": "stream",
     "text": [
      "0\n",
      "1\n",
      "2\n",
      "loop is finished\n"
     ]
    }
   ],
   "source": [
    "for i in range(3):\n",
    "    print(i)\n",
    "else:\n",
    "    print(\"loop is finished\")"
   ]
  },
  {
   "cell_type": "code",
   "execution_count": 32,
   "id": "db22e87e",
   "metadata": {},
   "outputs": [
    {
     "name": "stdout",
     "output_type": "stream",
     "text": [
      "1\n",
      "2\n",
      "3\n",
      "4\n",
      "5\n",
      "6\n",
      "7\n",
      "8\n",
      "9\n",
      "10\n"
     ]
    }
   ],
   "source": [
    "for i in range (1,11):\n",
    "    print(i)"
   ]
  },
  {
   "cell_type": "code",
   "execution_count": 33,
   "id": "32bd5c35",
   "metadata": {},
   "outputs": [
    {
     "name": "stdout",
     "output_type": "stream",
     "text": [
      "2\n",
      "4\n",
      "6\n",
      "8\n",
      "10\n",
      "12\n",
      "14\n",
      "16\n",
      "18\n",
      "20\n",
      "22\n",
      "24\n",
      "26\n",
      "28\n",
      "30\n",
      "32\n",
      "34\n",
      "36\n",
      "38\n",
      "40\n",
      "42\n",
      "44\n",
      "46\n",
      "48\n",
      "50\n"
     ]
    }
   ],
   "source": [
    "for i in range (1,51):\n",
    "    if(i % 2 == 0):\n",
    "        print(i)"
   ]
  },
  {
   "cell_type": "code",
   "execution_count": 34,
   "id": "118db8e2",
   "metadata": {},
   "outputs": [
    {
     "name": "stdout",
     "output_type": "stream",
     "text": [
      "15\n"
     ]
    }
   ],
   "source": [
    "n = int(input(\"enter a number\"))\n",
    "sum = 0\n",
    "for i in range(1,n+1):\n",
    "    sum = sum + i\n",
    "print(sum)"
   ]
  },
  {
   "cell_type": "code",
   "execution_count": 35,
   "id": "da040870",
   "metadata": {},
   "outputs": [
    {
     "name": "stdout",
     "output_type": "stream",
     "text": [
      "13 X 1 =  13\n",
      "13 X 2 =  26\n",
      "13 X 3 =  39\n",
      "13 X 4 =  52\n",
      "13 X 5 =  65\n",
      "13 X 6 =  78\n",
      "13 X 7 =  91\n",
      "13 X 8 =  104\n",
      "13 X 9 =  117\n",
      "13 X 10 =  130\n"
     ]
    }
   ],
   "source": [
    "n = int(input(\"enter a number\"))\n",
    "for i in range (1,11):\n",
    "    print(n ,\"X\", i, \"= \" ,n * i)"
   ]
  },
  {
   "cell_type": "code",
   "execution_count": 38,
   "id": "28218832",
   "metadata": {},
   "outputs": [
    {
     "name": "stdout",
     "output_type": "stream",
     "text": [
      "120\n"
     ]
    }
   ],
   "source": [
    "n = int(input(\"enter a number\"))\n",
    "factorial = 1\n",
    "for i in range(1,n+1):\n",
    "    factorial = factorial * i\n",
    "print(factorial)"
   ]
  },
  {
   "cell_type": "code",
   "execution_count": 40,
   "id": "9ba3cce7",
   "metadata": {},
   "outputs": [
    {
     "name": "stdout",
     "output_type": "stream",
     "text": [
      "100\n",
      "99\n",
      "98\n",
      "97\n",
      "96\n",
      "95\n",
      "94\n",
      "93\n",
      "92\n",
      "91\n",
      "90\n",
      "89\n",
      "88\n",
      "87\n",
      "86\n",
      "85\n",
      "84\n",
      "83\n",
      "82\n",
      "81\n",
      "80\n",
      "79\n",
      "78\n",
      "77\n",
      "76\n",
      "75\n",
      "74\n",
      "73\n",
      "72\n",
      "71\n",
      "70\n",
      "69\n",
      "68\n",
      "67\n",
      "66\n",
      "65\n",
      "64\n",
      "63\n",
      "62\n",
      "61\n",
      "60\n",
      "59\n",
      "58\n",
      "57\n",
      "56\n",
      "55\n",
      "54\n",
      "53\n",
      "52\n",
      "51\n",
      "50\n",
      "49\n",
      "48\n",
      "47\n",
      "46\n",
      "45\n",
      "44\n",
      "43\n",
      "42\n",
      "41\n",
      "40\n",
      "39\n",
      "38\n",
      "37\n",
      "36\n",
      "35\n",
      "34\n",
      "33\n",
      "32\n",
      "31\n",
      "30\n",
      "29\n",
      "28\n",
      "27\n",
      "26\n",
      "25\n",
      "24\n",
      "23\n",
      "22\n",
      "21\n",
      "20\n",
      "19\n",
      "18\n",
      "17\n",
      "16\n",
      "15\n",
      "14\n",
      "13\n",
      "12\n",
      "11\n",
      "10\n",
      "9\n",
      "8\n",
      "7\n",
      "6\n",
      "5\n",
      "4\n",
      "3\n",
      "2\n",
      "1\n"
     ]
    }
   ],
   "source": [
    "for i in range (100,0,-1):\n",
    "    print(i)"
   ]
  },
  {
   "cell_type": "code",
   "execution_count": 42,
   "id": "21e4eb5b",
   "metadata": {},
   "outputs": [
    {
     "name": "stdout",
     "output_type": "stream",
     "text": [
      "Fibonacci series \n",
      "0\n",
      "1\n",
      "1\n",
      "2\n",
      "3\n",
      "5\n",
      "8\n",
      "13\n",
      "21\n",
      "34\n"
     ]
    }
   ],
   "source": [
    "n = int(input(\"Enter the number of term: \"))\n",
    "a = 0\n",
    "b = 1\n",
    "print(\"Fibonacci series \")\n",
    "for i in range(n):\n",
    "    print(a)\n",
    "    temp = a\n",
    "    a = b\n",
    "    b = temp + b;"
   ]
  },
  {
   "cell_type": "code",
   "execution_count": 44,
   "id": "556ea6b6",
   "metadata": {},
   "outputs": [
    {
     "name": "stdout",
     "output_type": "stream",
     "text": [
      "2 3 5 7 11 13 17 19 23 29 31 37 41 43 47 53 59 61 67 71 73 79 83 89 97 "
     ]
    }
   ],
   "source": [
    "for num in range (2, 101):\n",
    "    is_prime = True\n",
    "    for i in range (2,int(num ** 0.5)+1):\n",
    "        if num % i == 0:\n",
    "            is_prime = False\n",
    "            break\n",
    "    if is_prime:\n",
    "        print(num,end=\" \")"
   ]
  },
  {
   "cell_type": "code",
   "execution_count": 45,
   "id": "5b2683ba",
   "metadata": {},
   "outputs": [
    {
     "name": "stdout",
     "output_type": "stream",
     "text": [
      "100\n",
      "6\n",
      "7\n",
      "9\n"
     ]
    }
   ],
   "source": [
    "while num != 0:\n",
    "    print(num)\n",
    "    num = int(input(\"enter a number\"))"
   ]
  },
  {
   "cell_type": "code",
   "execution_count": 49,
   "id": "a6eb3cf0",
   "metadata": {},
   "outputs": [
    {
     "name": "stdout",
     "output_type": "stream",
     "text": [
      "10\n"
     ]
    }
   ],
   "source": [
    "sum = 0\n",
    "num = int(input(\"enter a number \"))\n",
    "while num > 0:\n",
    "    r = num % 10\n",
    "    sum = sum + r\n",
    "    num = num // 10\n",
    "print(sum)"
   ]
  },
  {
   "cell_type": "code",
   "execution_count": 52,
   "id": "e5ba96e7",
   "metadata": {},
   "outputs": [
    {
     "name": "stdout",
     "output_type": "stream",
     "text": [
      "321\n"
     ]
    }
   ],
   "source": [
    "rev = 0\n",
    "num = int(input(\"enter a number\"))\n",
    "while num > 0:\n",
    "    r = num % 10\n",
    "    rev = rev * 10 + r\n",
    "    num = num // 10\n",
    "print(rev)"
   ]
  },
  {
   "cell_type": "code",
   "execution_count": 53,
   "id": "31b521de",
   "metadata": {},
   "outputs": [
    {
     "name": "stdout",
     "output_type": "stream",
     "text": [
      "palindrome\n"
     ]
    }
   ],
   "source": [
    "rev = 0\n",
    "num = int(input(\"enter a number\"))\n",
    "n = num\n",
    "while num > 0:\n",
    "    r = num % 10\n",
    "    rev = rev * 10 + r\n",
    "    num = num // 10\n",
    "if ( rev == n):\n",
    "    print('palindrome')\n",
    "else:\n",
    "    print('not palindrome')"
   ]
  },
  {
   "cell_type": "code",
   "execution_count": 54,
   "id": "b2700087",
   "metadata": {},
   "outputs": [
    {
     "name": "stdout",
     "output_type": "stream",
     "text": [
      "low guess higher\n",
      "high guess lower\n",
      "low guess higher\n",
      "high guess lower\n",
      "low guess higher\n",
      "low guess higher\n",
      "high guess lower\n",
      "high guess lower\n",
      "congrats\n"
     ]
    }
   ],
   "source": [
    "import random\n",
    "secret_number = random.randint(1,100)\n",
    "while True:\n",
    "    guess = int(input(\"Guess the number betwee 1 and 100\"))\n",
    "\n",
    "    if guess == secret_number:\n",
    "        print(\"congrats\")\n",
    "        break\n",
    "    elif guess < secret_number:\n",
    "        print(\"low guess higher\")\n",
    "    else:\n",
    "        print(\"high guess lower\")"
   ]
  },
  {
   "cell_type": "code",
   "execution_count": 55,
   "id": "626551d7",
   "metadata": {},
   "outputs": [
    {
     "name": "stdout",
     "output_type": "stream",
     "text": [
      "2\n",
      "4\n",
      "8\n",
      "16\n",
      "32\n",
      "64\n",
      "128\n",
      "256\n",
      "512\n"
     ]
    }
   ],
   "source": [
    "num = 2\n",
    "while num <= 1000:\n",
    "    print(num)\n",
    "    num = num * 2"
   ]
  },
  {
   "cell_type": "code",
   "execution_count": 57,
   "id": "e73eed1e",
   "metadata": {},
   "outputs": [
    {
     "name": "stdout",
     "output_type": "stream",
     "text": [
      "Collatz sequence\n",
      "13\n",
      "40\n",
      "20\n",
      "10\n",
      "5\n",
      "16\n",
      "8\n",
      "4\n",
      "2\n",
      "1\n"
     ]
    }
   ],
   "source": [
    "n = int(input(\"enter a positive integer\"))\n",
    "print(\"Collatz sequence\")\n",
    "while n != 1:\n",
    "    print(n)\n",
    "    if n % 2 == 0:\n",
    "        n = n // 2\n",
    "    else:\n",
    "        n = 3 * n + 1\n",
    "print(1)"
   ]
  },
  {
   "cell_type": "code",
   "execution_count": 1,
   "id": "16e390ae",
   "metadata": {},
   "outputs": [],
   "source": [
    "def greet():\n",
    "    print(\"Hello welcome to python\")"
   ]
  },
  {
   "cell_type": "code",
   "execution_count": 2,
   "id": "fe910256",
   "metadata": {},
   "outputs": [
    {
     "name": "stdout",
     "output_type": "stream",
     "text": [
      "Hello welcome to python\n"
     ]
    }
   ],
   "source": [
    "greet()"
   ]
  },
  {
   "cell_type": "code",
   "execution_count": 6,
   "id": "91a82934",
   "metadata": {},
   "outputs": [],
   "source": [
    "def greet2(name):\n",
    "    print(f\"Hello {name}, welcome to python\")"
   ]
  },
  {
   "cell_type": "code",
   "execution_count": 7,
   "id": "4d7c1d21",
   "metadata": {},
   "outputs": [
    {
     "name": "stdout",
     "output_type": "stream",
     "text": [
      "Hello chandan, welcome to python\n"
     ]
    }
   ],
   "source": [
    "greet2('chandan')"
   ]
  },
  {
   "cell_type": "code",
   "execution_count": 8,
   "id": "931638a7",
   "metadata": {},
   "outputs": [],
   "source": [
    "def power(base, exp = 2):\n",
    "    return base**exp"
   ]
  },
  {
   "cell_type": "code",
   "execution_count": 9,
   "id": "cfdccbcb",
   "metadata": {},
   "outputs": [
    {
     "name": "stdout",
     "output_type": "stream",
     "text": [
      "25\n"
     ]
    }
   ],
   "source": [
    "print(power(5))"
   ]
  },
  {
   "cell_type": "code",
   "execution_count": 10,
   "id": "4bcc890e",
   "metadata": {},
   "outputs": [],
   "source": [
    "def total(*numbers):\n",
    "    return sum(numbers)"
   ]
  },
  {
   "cell_type": "code",
   "execution_count": 11,
   "id": "89e50a2a",
   "metadata": {},
   "outputs": [
    {
     "name": "stdout",
     "output_type": "stream",
     "text": [
      "51\n"
     ]
    }
   ],
   "source": [
    "print(total(1,2,3,45))"
   ]
  },
  {
   "cell_type": "code",
   "execution_count": 12,
   "id": "84e971d6",
   "metadata": {},
   "outputs": [],
   "source": [
    "def stat (*numbers, operation):\n",
    "    if not numbers:\n",
    "        print(\"Atleast one number is required\")\n",
    "    if operation == 'sum':\n",
    "        return sum(numbers)\n",
    "    elif operation == 'avg':\n",
    "        return sum(numbers)/len(numbers)\n",
    "    elif operation == 'max':\n",
    "        return max(numbers)\n",
    "    elif operation == 'min':\n",
    "        return min(numbers)\n",
    "    else:\n",
    "        print(\"Invalid operation\")\n"
   ]
  },
  {
   "cell_type": "code",
   "execution_count": 14,
   "id": "caf97cff",
   "metadata": {},
   "outputs": [
    {
     "name": "stdout",
     "output_type": "stream",
     "text": [
      "20\n"
     ]
    }
   ],
   "source": [
    "print(stat(2,4,6,8, operation='sum'))"
   ]
  },
  {
   "cell_type": "code",
   "execution_count": 17,
   "id": "c562027b",
   "metadata": {},
   "outputs": [],
   "source": [
    "def show_details(**info):\n",
    "    for key,value in info.items():\n",
    "        print(f\"{key} = {value}\")\n",
    "    else:\n",
    "        print(\"enter atleast one key value pair\")"
   ]
  },
  {
   "cell_type": "code",
   "execution_count": 16,
   "id": "5fbe3e90",
   "metadata": {},
   "outputs": [
    {
     "name": "stdout",
     "output_type": "stream",
     "text": [
      "name = chandan\n",
      "age = 23\n",
      "city = pune\n"
     ]
    }
   ],
   "source": [
    "show_details(name=\"chandan\",age = 23, city=\"pune\")"
   ]
  },
  {
   "cell_type": "code",
   "execution_count": 18,
   "id": "6b968fa2",
   "metadata": {},
   "outputs": [
    {
     "name": "stdout",
     "output_type": "stream",
     "text": [
      "enter atleast one key value pair\n"
     ]
    }
   ],
   "source": [
    "show_details()"
   ]
  },
  {
   "cell_type": "code",
   "execution_count": 19,
   "id": "41212028",
   "metadata": {},
   "outputs": [],
   "source": [
    "square = lambda x : x * x"
   ]
  },
  {
   "cell_type": "code",
   "execution_count": 20,
   "id": "cb144f1c",
   "metadata": {},
   "outputs": [
    {
     "name": "stdout",
     "output_type": "stream",
     "text": [
      "100\n"
     ]
    }
   ],
   "source": [
    "print(square(10))"
   ]
  },
  {
   "cell_type": "code",
   "execution_count": 21,
   "id": "e0c8b431",
   "metadata": {},
   "outputs": [],
   "source": [
    "greet4 = lambda name : f\"hello {name}\""
   ]
  },
  {
   "cell_type": "code",
   "execution_count": 22,
   "id": "df39a88e",
   "metadata": {},
   "outputs": [
    {
     "data": {
      "text/plain": [
       "'hello chandan'"
      ]
     },
     "execution_count": 22,
     "metadata": {},
     "output_type": "execute_result"
    }
   ],
   "source": [
    "greet4('chandan')"
   ]
  },
  {
   "cell_type": "code",
   "execution_count": null,
   "id": "ce6fc6b0",
   "metadata": {},
   "outputs": [],
   "source": [
    "factorial2 = lambda n : prod = 1 for i in range (1 , n+1)"
   ]
  },
  {
   "cell_type": "code",
   "execution_count": 23,
   "id": "463aa9a8",
   "metadata": {},
   "outputs": [],
   "source": [
    "is_leap = lambda year : (year % 4 == 0 and year % 100 != 0) or (year % 400 == 0)"
   ]
  },
  {
   "cell_type": "code",
   "execution_count": 24,
   "id": "d83508d1",
   "metadata": {},
   "outputs": [
    {
     "name": "stdout",
     "output_type": "stream",
     "text": [
      "True\n"
     ]
    }
   ],
   "source": [
    "print(is_leap(2024))\n"
   ]
  },
  {
   "cell_type": "code",
   "execution_count": 25,
   "id": "eac1aec7",
   "metadata": {},
   "outputs": [],
   "source": [
    "def square_evens(nums):\n",
    "    return list(map(lambda x : x**2,filter(lambda x : x % 2 == 0,nums)))"
   ]
  },
  {
   "cell_type": "code",
   "execution_count": 26,
   "id": "5eb92c0d",
   "metadata": {},
   "outputs": [
    {
     "name": "stdout",
     "output_type": "stream",
     "text": [
      "[196, 36, 64]\n"
     ]
    }
   ],
   "source": [
    "def square_evens(nums):\n",
    "    #step 1 - filter even numbers\n",
    "    evens = filter(lambda x: x % 2 == 0,nums)\n",
    "    #step 2 - map to squares\n",
    "    squares = map(lambda x: x**2,evens)\n",
    "    #convert to list before returning\n",
    "    return list(squares)\n",
    "\n",
    "print(square_evens([13,14,6,8]))"
   ]
  },
  {
   "cell_type": "code",
   "execution_count": 27,
   "id": "d02e0faf",
   "metadata": {},
   "outputs": [
    {
     "name": "stdout",
     "output_type": "stream",
     "text": [
      "['LION', 'TIGER']\n"
     ]
    }
   ],
   "source": [
    "def long_words_upper(words):\n",
    "    #step 1: filter words with length > 3\n",
    "    long_words = filter(lambda w: len(w) > 3,words)\n",
    "    #step 2: map them to uppercase\n",
    "    upper_words = map(lambda w: w.upper(),long_words)\n",
    "    #convert to list\n",
    "    return list(upper_words)\n",
    "\n",
    "print(long_words_upper([\"cat\",\"lion\",\"dog\",\"tiger\",\"ox\"]))"
   ]
  },
  {
   "cell_type": "code",
   "execution_count": 31,
   "id": "fd9f1cae",
   "metadata": {},
   "outputs": [
    {
     "name": "stdout",
     "output_type": "stream",
     "text": [
      "6\n",
      "<class 'int'>\n",
      "7\n",
      "9\n",
      "1\n",
      "3.18\n",
      "10\n",
      "[2, 5, 8]\n"
     ]
    }
   ],
   "source": [
    "print(len(\"Python\"))\n",
    "print(type(100))\n",
    "print(abs(-7))\n",
    "print(max(2,5,9))\n",
    "print(min(1,2,4))\n",
    "print(round(3.1784,2))\n",
    "print(sum([1,2,3,4]))\n",
    "print(sorted([2,8,5]))"
   ]
  },
  {
   "cell_type": "code",
   "execution_count": 34,
   "id": "3ba11839",
   "metadata": {},
   "outputs": [
    {
     "name": "stdout",
     "output_type": "stream",
     "text": [
      "The car is a Red Toyota\n",
      "The car is a Black BMW\n"
     ]
    }
   ],
   "source": [
    "class Car:\n",
    "    #attributes (variables)\n",
    "        def __init__(self, brand, color):\n",
    "            self.brand = brand\n",
    "            self.color = color\n",
    "\n",
    "        def show_details(self):\n",
    "            print(f\"The car is a {self.color} {self.brand}\")\n",
    "car1 = Car(\"Toyota\",\"Red\")\n",
    "car2 = Car(\"BMW\",\"Black\")\n",
    "\n",
    "car1.show_details()\n",
    "car2.show_details()"
   ]
  },
  {
   "cell_type": "code",
   "execution_count": 36,
   "id": "fdde1aa1",
   "metadata": {},
   "outputs": [
    {
     "name": "stdout",
     "output_type": "stream",
     "text": [
      "The student has an id 1 and a name Ann and has obtained 70\n",
      "The student has an id 2 and a name ben and has obtained 80\n",
      "The student has an id 3 and a name john and has obtained 90\n",
      "The student has an id 4 and a name belly and has obtained 40\n"
     ]
    }
   ],
   "source": [
    "class Student:\n",
    "    def __init__(self,id,name,marks):\n",
    "        self.id = id\n",
    "        self.name = name\n",
    "        self.marks = marks\n",
    "    def show_details(self):\n",
    "        print(f\"The student has an id {self.id} and a name {self.name} and has obtained {self.marks}\")\n",
    "Student1 = Student(\"1\",\"Ann\",\"70\")\n",
    "Student2 = Student(\"2\",\"ben\",\"80\")\n",
    "Student3 = Student(\"3\",\"john\",\"90\")\n",
    "Student4 = Student(\"4\",\"belly\",\"40\")\n",
    "\n",
    "Student1.show_details()\n",
    "Student2.show_details()\n",
    "Student3.show_details()\n",
    "Student4.show_details()"
   ]
  },
  {
   "cell_type": "code",
   "execution_count": 5,
   "id": "0226b144",
   "metadata": {},
   "outputs": [
    {
     "name": "stdout",
     "output_type": "stream",
     "text": [
      "Chandan's current balance: Rs1000\n",
      "Chandan's current balance: Rs1200\n"
     ]
    }
   ],
   "source": [
    "class BankAccount:\n",
    "    def __init__(self,owner,balance=0):\n",
    "        self.owner = owner\n",
    "        self.balance = balance\n",
    "    def deposit(self,amount):\n",
    "        if amount > 0:\n",
    "            self.balance += amount\n",
    "    def withdraw(self,amount):\n",
    "        if amount > self.balance:\n",
    "            print(\"insufficient funds\")\n",
    "        else:\n",
    "            self.balance -= amount\n",
    "    def check_balance(self):\n",
    "        print(f\"{self.owner}'s current balance: Rs{self.balance}\")\n",
    "\n",
    "account = BankAccount(\"Chandan\",1000)\n",
    "account.check_balance()\n",
    "account.deposit(500)\n",
    "account.withdraw(300)\n",
    "account.check_balance()\n"
   ]
  },
  {
   "cell_type": "code",
   "execution_count": 1,
   "id": "20ebcbdf",
   "metadata": {},
   "outputs": [
    {
     "name": "stdout",
     "output_type": "stream",
     "text": [
      "[1, 2, 3, 1, 2, 3, 1, 2, 3]\n"
     ]
    }
   ],
   "source": [
    "a = [1,2,3]*3\n",
    "print(a)"
   ]
  },
  {
   "cell_type": "code",
   "execution_count": 2,
   "id": "90fad43f",
   "metadata": {},
   "outputs": [
    {
     "name": "stdout",
     "output_type": "stream",
     "text": [
      "15\n",
      "10\n"
     ]
    }
   ],
   "source": [
    "x = 10\n",
    "def change(x):\n",
    "    x = x + 5\n",
    "    return x\n",
    "print(change(x))\n",
    "print(x)"
   ]
  },
  {
   "cell_type": "code",
   "execution_count": 3,
   "id": "6abe3e5a",
   "metadata": {},
   "outputs": [
    {
     "data": {
      "text/plain": [
       "[6, 12, 18, 24, 30]"
      ]
     },
     "execution_count": 3,
     "metadata": {},
     "output_type": "execute_result"
    }
   ],
   "source": [
    "list(filter(lambda x : x % 2 == 0 and x % 3 == 0,range(1,31)))"
   ]
  },
  {
   "cell_type": "code",
   "execution_count": 18,
   "id": "3b02006d",
   "metadata": {},
   "outputs": [
    {
     "name": "stdout",
     "output_type": "stream",
     "text": [
      "Deposited 500, new balance = 1500\n",
      "modded pin is  1234\n",
      "Alice\n",
      "1500\n"
     ]
    },
    {
     "ename": "AttributeError",
     "evalue": "'BankAccount' object has no attribute '__pin'",
     "output_type": "error",
     "traceback": [
      "\u001b[0;31m---------------------------------------------------------------------------\u001b[0m",
      "\u001b[0;31mAttributeError\u001b[0m                            Traceback (most recent call last)",
      "Cell \u001b[0;32mIn[18], line 20\u001b[0m\n\u001b[1;32m     18\u001b[0m \u001b[38;5;28mprint\u001b[39m(account\u001b[38;5;241m.\u001b[39mowner)\n\u001b[1;32m     19\u001b[0m \u001b[38;5;28mprint\u001b[39m(account\u001b[38;5;241m.\u001b[39m_balance)\n\u001b[0;32m---> 20\u001b[0m \u001b[38;5;28mprint\u001b[39m(\u001b[43maccount\u001b[49m\u001b[38;5;241;43m.\u001b[39;49m\u001b[43m__pin\u001b[49m)\n",
      "\u001b[0;31mAttributeError\u001b[0m: 'BankAccount' object has no attribute '__pin'"
     ]
    }
   ],
   "source": [
    "class BankAccount:\n",
    "    def __init__(self,owner,balance):\n",
    "        self.owner = owner\n",
    "        self._balance = balance # protected attribute\n",
    "        self.__pin = \"1234\"\n",
    "    def deposit(self,amount):\n",
    "        self._balance += amount\n",
    "        print(f\"Deposited {amount}, new balance = {self._balance}\")\n",
    "    def __show_pin(self): # private method\n",
    "        print(\"PIN is: \", self.__pin)\n",
    "    def mod_show_pin(self):\n",
    "        print(\"modded pin is \",self.__pin)\n",
    "\n",
    "account = BankAccount(\"Alice\",1000)\n",
    "account.deposit(500)\n",
    "account.mod_show_pin()\n",
    "\n",
    "print(account.owner)\n",
    "print(account._balance)\n",
    "print(account.__pin)"
   ]
  }
 ],
 "metadata": {
  "kernelspec": {
   "display_name": "Python 3",
   "language": "python",
   "name": "python3"
  },
  "language_info": {
   "codemirror_mode": {
    "name": "ipython",
    "version": 3
   },
   "file_extension": ".py",
   "mimetype": "text/x-python",
   "name": "python",
   "nbconvert_exporter": "python",
   "pygments_lexer": "ipython3",
   "version": "3.10.12"
  }
 },
 "nbformat": 4,
 "nbformat_minor": 5
}
