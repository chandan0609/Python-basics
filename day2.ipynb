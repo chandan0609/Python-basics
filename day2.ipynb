{
 "cells": [
  {
   "cell_type": "markdown",
   "id": "06d95aa3",
   "metadata": {},
   "source": [
    "the try-except Block\n",
    "Basic structure\n",
    "try:\n",
    "    "
   ]
  },
  {
   "cell_type": "code",
   "execution_count": null,
   "id": "78984a83",
   "metadata": {},
   "outputs": [],
   "source": [
    "#the try-except BlockingIOError\n",
    "try:\n",
    "    #cocde that might cause an error\n",
    "except:\n",
    "    #Code that runs if an error occurs\n",
    "#Example:\n",
    "try:\n",
    "    x = int(\"hello\")\n",
    "except:\n",
    "    print(\"OOps!! thats not a valid number\")\n",
    "    print(\"Enter a number instead of hello\")\n",
    "\n"
   ]
  },
  {
   "cell_type": "code",
   "execution_count": 1,
   "id": "a1e85530",
   "metadata": {},
   "outputs": [
    {
     "name": "stdout",
     "output_type": "stream",
     "text": [
      "Result:  3.0\n"
     ]
    }
   ],
   "source": [
    "try:\n",
    "    num1 = float(input(\"Enter first number: \"))\n",
    "    num2 = float(input(\"Enter second number: \"))\n",
    "    result = num1/num2\n",
    "    print(\"Result: \",result)\n",
    "except ZeroDivisionError:\n",
    "    print(\"You cannot divide by zero\")\n",
    "except ValueError:\n",
    "    print(\"Please enter a valid number\")\n"
   ]
  },
  {
   "cell_type": "code",
   "execution_count": 2,
   "id": "e41d290b",
   "metadata": {},
   "outputs": [
    {
     "name": "stdout",
     "output_type": "stream",
     "text": [
      " invalid input, Please enter a numeric value\n"
     ]
    }
   ],
   "source": [
    "try:\n",
    "    age = int(input(\"Enter your age\"))\n",
    "    print(f\"Your age is {age}\")\n",
    "except ValueError:\n",
    "    print(\" invalid input, Please enter a numeric value\")\n"
   ]
  },
  {
   "cell_type": "code",
   "execution_count": 4,
   "id": "2e659169",
   "metadata": {},
   "outputs": [
    {
     "name": "stdout",
     "output_type": "stream",
     "text": [
      "File 'story.txt' not found in the system\n"
     ]
    }
   ],
   "source": [
    "try:\n",
    "    with open(\"story.txt\",\"r\") as file:\n",
    "        content = file.read()\n",
    "        print(content)\n",
    "except FileNotFoundError:\n",
    "    print(\"File 'story.txt' not found in the system\" )\n"
   ]
  },
  {
   "cell_type": "code",
   "execution_count": 5,
   "id": "30ec323f",
   "metadata": {},
   "outputs": [
    {
     "name": "stdout",
     "output_type": "stream",
     "text": [
      "please enter a valid index\n"
     ]
    }
   ],
   "source": [
    "my_list = [\"apple\",\"banana\",\"mango\",\"guava\",\"grapes\"]\n",
    "try:\n",
    "    index = int(input(\"Enter an index (0-4): \"))\n",
    "    print(\"Item at index: \", my_list[index])\n",
    "except IndexError:\n",
    "    print(\"please enter a valid index\")\n",
    "except ValueError:\n",
    "    print(\"Please enter a numeric value\")"
   ]
  },
  {
   "cell_type": "code",
   "execution_count": 7,
   "id": "84b6476a",
   "metadata": {},
   "outputs": [
    {
     "name": "stdout",
     "output_type": "stream",
     "text": [
      "File opened in read mode. \n"
     ]
    }
   ],
   "source": [
    "'''Opening a file'''\n",
    "# Open file in read mode\n",
    "f = open(\"example.txt\",\"r\")\n",
    "print(\"File opened in read mode. \")\n",
    "f.close()"
   ]
  },
  {
   "cell_type": "code",
   "execution_count": 8,
   "id": "46d46902",
   "metadata": {},
   "outputs": [
    {
     "name": "stdout",
     "output_type": "stream",
     "text": [
      "Full content: \n",
      " hey there.\n"
     ]
    }
   ],
   "source": [
    "# reading from a file\n",
    "with open(\"example.txt\",'r') as f:\n",
    "    #Read the whole file content\n",
    "    content = f.read()\n",
    "    print(\"Full content: \\n\",content)"
   ]
  },
  {
   "cell_type": "code",
   "execution_count": 9,
   "id": "ac7c3480",
   "metadata": {},
   "outputs": [
    {
     "name": "stdout",
     "output_type": "stream",
     "text": [
      "List of line ['hey there.']\n"
     ]
    }
   ],
   "source": [
    "with open(\"example.txt\",\"r\") as f:\n",
    "#Read all lines into a list\n",
    "    lines = f.readlines()\n",
    "print(\"List of line\", lines)"
   ]
  },
  {
   "cell_type": "code",
   "execution_count": 10,
   "id": "1508041d",
   "metadata": {},
   "outputs": [
    {
     "name": "stdout",
     "output_type": "stream",
     "text": [
      "First line hey there.\n"
     ]
    }
   ],
   "source": [
    "with open(\"example.txt\",\"r\") as f:\n",
    "    line = f.readline()\n",
    "    print(\"First line\",line)"
   ]
  },
  {
   "cell_type": "code",
   "execution_count": 11,
   "id": "68c3dd1b",
   "metadata": {},
   "outputs": [
    {
     "name": "stdout",
     "output_type": "stream",
     "text": [
      "File written successfully\n"
     ]
    }
   ],
   "source": [
    "#Writing to a File\n",
    "with open(\"example.txt\",\"w\") as f:\n",
    "    f.write(\"Hello World! \\n\")\n",
    "    f.write(\"This will overwrite existing content\\n\")\n",
    "    print(\"File written successfully\")"
   ]
  },
  {
   "cell_type": "code",
   "execution_count": 12,
   "id": "18863423",
   "metadata": {},
   "outputs": [
    {
     "name": "stdout",
     "output_type": "stream",
     "text": [
      "New line appended\n"
     ]
    }
   ],
   "source": [
    "with open(\"example.txt\",\"a\") as f:\n",
    "    f.write(\"This line is added at the end .\\n\")\n",
    "    print(\"New line appended\")"
   ]
  },
  {
   "cell_type": "code",
   "execution_count": 13,
   "id": "2c828407",
   "metadata": {},
   "outputs": [
    {
     "name": "stdout",
     "output_type": "stream",
     "text": [
      "Hello\n",
      "pointer at 5\n",
      " Worl\n",
      "After seek Hello\n"
     ]
    }
   ],
   "source": [
    "with open(\"example.txt\",\"r\") as f:\n",
    "    print(f.read(5))\n",
    "    #Read first 5 characters\n",
    "    print(\"pointer at\",f.tell())\n",
    "    print(f.read(5))\n",
    "    f.seek(0)\n",
    "    print(\"After seek\",f.read(5))"
   ]
  },
  {
   "cell_type": "code",
   "execution_count": null,
   "id": "9a68ad46",
   "metadata": {},
   "outputs": [],
   "source": [
    "import os\n",
    "\n",
    "os.rename(\"example.txt\",\"renamed_example.txt\")"
   ]
  },
  {
   "cell_type": "code",
   "execution_count": 14,
   "id": "34600b37",
   "metadata": {},
   "outputs": [
    {
     "name": "stdout",
     "output_type": "stream",
     "text": [
      "Hello World!\n",
      "This will overwrite existing content\n",
      "This line is added at the end .\n"
     ]
    }
   ],
   "source": [
    "with open(\"example.txt\",\"r\") as f:\n",
    "    while (line := f.readline()):\n",
    "        print(line.strip())"
   ]
  },
  {
   "cell_type": "code",
   "execution_count": 15,
   "id": "82208bab",
   "metadata": {},
   "outputs": [
    {
     "name": "stdout",
     "output_type": "stream",
     "text": [
      "Hello World!\n",
      "This will overwrite existing content\n",
      "This line is added at the end .\n"
     ]
    }
   ],
   "source": [
    "file_path = \"example.txt\"\n",
    "with open(file_path,\"r\") as f:\n",
    "    while True:\n",
    "        line = f.readline()\n",
    "        if not line:\n",
    "            break\n",
    "        print(line.strip())"
   ]
  },
  {
   "cell_type": "code",
   "execution_count": 16,
   "id": "a320d058",
   "metadata": {},
   "outputs": [
    {
     "name": "stdout",
     "output_type": "stream",
     "text": [
      "example.txt exists\n"
     ]
    }
   ],
   "source": [
    "import os\n",
    "file_path = \"example.txt\"\n",
    "\n",
    "if os.path.exists(file_path):\n",
    "    print(f\"{file_path} exists\")\n",
    "else:\n",
    "    print(f\"{file_path} does not exist\")"
   ]
  },
  {
   "cell_type": "code",
   "execution_count": 18,
   "id": "3a259783",
   "metadata": {},
   "outputs": [
    {
     "name": "stdout",
     "output_type": "stream",
     "text": [
      "Hello World!\n",
      "This will overwrite existing content\n",
      "This line is added at the end .\n",
      "file closed\n"
     ]
    }
   ],
   "source": [
    "import os\n",
    "\n",
    "file_name = input(\"Enter the file name\")\n",
    "f = None\n",
    "try: \n",
    "    f = open(file_name,'r')\n",
    "    while True:\n",
    "        line = f.readline()\n",
    "        if not line:\n",
    "            break\n",
    "        print(line.strip())\n",
    "\n",
    "except FileNotFoundError:\n",
    "    print(\"Error: file not found\")\n",
    "except PermissionError:\n",
    "    print(\"error: You don't have permission to read this file\")\n",
    "except Exception as e:\n",
    "    print(f\"Unexpected error: {e}\")\n",
    "finally:\n",
    "    if f is not None:\n",
    "        f.close()\n",
    "        print(\"file closed\")"
   ]
  },
  {
   "cell_type": "code",
   "execution_count": 19,
   "id": "c3094042",
   "metadata": {},
   "outputs": [
    {
     "name": "stdout",
     "output_type": "stream",
     "text": [
      "Deposited 500, new balance = 1500\n",
      "modded pin is  1234\n",
      "Alice\n",
      "1500\n"
     ]
    },
    {
     "ename": "AttributeError",
     "evalue": "'BankAccount' object has no attribute '__pin'",
     "output_type": "error",
     "traceback": [
      "\u001b[0;31m---------------------------------------------------------------------------\u001b[0m",
      "\u001b[0;31mAttributeError\u001b[0m                            Traceback (most recent call last)",
      "Cell \u001b[0;32mIn[19], line 20\u001b[0m\n\u001b[1;32m     18\u001b[0m \u001b[38;5;28mprint\u001b[39m(account\u001b[38;5;241m.\u001b[39mowner)\n\u001b[1;32m     19\u001b[0m \u001b[38;5;28mprint\u001b[39m(account\u001b[38;5;241m.\u001b[39m_balance)\n\u001b[0;32m---> 20\u001b[0m \u001b[38;5;28mprint\u001b[39m(\u001b[43maccount\u001b[49m\u001b[38;5;241;43m.\u001b[39;49m\u001b[43m__pin\u001b[49m)\n",
      "\u001b[0;31mAttributeError\u001b[0m: 'BankAccount' object has no attribute '__pin'"
     ]
    }
   ],
   "source": [
    "class BankAccount:\n",
    "    def __init__(self,owner,balance):\n",
    "        self.owner = owner\n",
    "        self._balance = balance # protected attribute\n",
    "        self.__pin = \"1234\"\n",
    "    def deposit(self,amount):\n",
    "        self._balance += amount\n",
    "        print(f\"Deposited {amount}, new balance = {self._balance}\")\n",
    "    def __show_pin(self): # private method\n",
    "        print(\"PIN is: \", self.__pin)\n",
    "    def mod_show_pin(self):\n",
    "        print(\"modded pin is \",self.__pin)\n",
    "\n",
    "account = BankAccount(\"Alice\",1000)\n",
    "account.deposit(500)\n",
    "account.mod_show_pin()\n",
    "\n",
    "print(account.owner)\n",
    "print(account._balance)\n",
    "print(account.__pin)"
   ]
  },
  {
   "cell_type": "code",
   "execution_count": null,
   "id": "82935a9f",
   "metadata": {},
   "outputs": [
    {
     "name": "stdout",
     "output_type": "stream",
     "text": [
      "Buddy makes a sound\n",
      "this is an example of child class named Dog\n",
      "Whiskers makes a sound\n",
      "this is an example of child class named Cat\n"
     ]
    }
   ],
   "source": [
    "class Animal:\n",
    "    def __init__(self,name,genus):\n",
    "        self.name = name\n",
    "        self.__genus = \"panthera\"\n",
    "    def speak(self):\n",
    "        print(f\"{self.name} makes a sound\")\n",
    "    def bio(self):\n",
    "        print(f)\n",
    "\n",
    "class Dog(Animal):\n",
    "    def display(self):\n",
    "        print('this is an example of child class named Dog')\n",
    "\n",
    "class Cat(Animal):\n",
    "    def display(self):\n",
    "        print('this is an example of child class named Cat')\n",
    "\n",
    "## execution starts here\n",
    "dog = Dog(\"Buddy\")\n",
    "cat = Cat(\"Whiskers\")\n",
    "\n",
    "dog.speak()\n",
    "dog.display()\n",
    "cat.speak()\n",
    "cat.display()"
   ]
  },
  {
   "cell_type": "code",
   "execution_count": 23,
   "id": "30e3ae87",
   "metadata": {},
   "outputs": [
    {
     "name": "stdout",
     "output_type": "stream",
     "text": [
      "person name: Prabhas, age:40\n",
      "list of movies are: ['Bahubali', 'Rebel', 'Mirchi', 'Darling']\n"
     ]
    }
   ],
   "source": [
    "class Person:\n",
    "    def __init__(self,name,age):\n",
    "        self.name = name\n",
    "        self.age = age\n",
    "    def display(self):\n",
    "        print(f'person name: {self.name}, age:{self.age}')\n",
    "\n",
    "class Actor(Person):\n",
    "    def __init__ (self,name,age,movie):\n",
    "        super().__init__(name,age)\n",
    "        self.movie = movie\n",
    "    def printmovies(self):\n",
    "        print(f'list of movies are: {self.movie}')\n",
    "\n",
    "actor1 = Actor('Prabhas',40,['Bahubali','Rebel','Mirchi','Darling'])\n",
    "actor1.display();\n",
    "actor1.printmovies();\n"
   ]
  },
  {
   "cell_type": "code",
   "execution_count": null,
   "id": "f3f6272f",
   "metadata": {},
   "outputs": [],
   "source": [
    "import os\n",
    "filename = input(\"Enter the filename\")\n",
    "\n",
    "if not os.path.exists(filename):\n",
    "    print(\"File does not exist .\")\n",
    "else:\n",
    "    with open(filename, 'r') as file:\n",
    "        lines = file.readlines()\n",
    "        total_lines = len(lines)\n",
    "        total_words = sum(len(line.split()) for line in lines)\n",
    "        print(f\"Total number of lines: {total_lines}\")\n",
    "        print(f\"Total numbers of words: {total_words}\")\n"
   ]
  },
  {
   "cell_type": "code",
   "execution_count": 28,
   "id": "4a6ab60f",
   "metadata": {},
   "outputs": [
    {
     "name": "stdout",
     "output_type": "stream",
     "text": [
      "Login Successful\n"
     ]
    }
   ],
   "source": [
    "class UserAuth:\n",
    "    def __init__(self,filepath):\n",
    "        self.filepath = filepath\n",
    "    def authenticate(self,username,password):\n",
    "        try:\n",
    "            with open(self.filepath,'r') as file:\n",
    "                data = file.read().split()\n",
    "                credentials = dict(item.split(',') for item in data)\n",
    "                if credentials.get(username) == password:\n",
    "                    print(\"Login Successful\")\n",
    "                else:\n",
    "                    print(\"Login falied\")\n",
    "        except FileNotFoundError:\n",
    "            print (\"User details file not found\")\n",
    "\n",
    "#Example\n",
    "auth = UserAuth('userdetails.txt')\n",
    "uname = input(\"Enter username: \")\n",
    "pwd = input(\"Enter password: \")\n",
    "auth.authenticate(uname,pwd)"
   ]
  },
  {
   "cell_type": "code",
   "execution_count": 1,
   "id": "820e1c92",
   "metadata": {},
   "outputs": [
    {
     "name": "stdout",
     "output_type": "stream",
     "text": [
      "Account Number: 1234567890\n",
      "Balance: 50000\n",
      "Interest rate : 4.5\n"
     ]
    }
   ],
   "source": [
    "class BankAccount:\n",
    "    def __init__(self,account_number,balance):\n",
    "        self.account_number = account_number\n",
    "        self.balance = balance\n",
    "class SavingsAccount(BankAccount):\n",
    "    def __init__(self,account_number,balance,interest_rate):\n",
    "        super().__init__(account_number,balance)\n",
    "        self.interest_rate = interest_rate\n",
    "\n",
    "    def display_details(self):\n",
    "        print(f\"Account Number: {self.account_number}\")\n",
    "        print(f\"Balance: {self.balance}\")\n",
    "        print(f\"Interest rate : {self.interest_rate}\")\n",
    "\n",
    "account = SavingsAccount(\"1234567890\",50000,4.5)\n",
    "account.display_details()"
   ]
  },
  {
   "cell_type": "code",
   "execution_count": 3,
   "id": "f0c5210f",
   "metadata": {},
   "outputs": [
    {
     "name": "stdout",
     "output_type": "stream",
     "text": [
      "Salary: 50000\n",
      "Salary: 24000\n"
     ]
    }
   ],
   "source": [
    "class Employee:\n",
    "    def calculate_salary(self):\n",
    "        pass\n",
    "\n",
    "class FullTimeEmployee(Employee):\n",
    "    def __init__ (self,monthly_salary):\n",
    "        self.monthly_salary = monthly_salary\n",
    "    def calculate_salary(self):\n",
    "        return self.monthly_salary\n",
    "\n",
    "class PartTimeEmployee(Employee):\n",
    "    def __init__(self,hours_worked,hourly_rate):\n",
    "        self.hours_worked = hours_worked\n",
    "        self.hourly_rate = hourly_rate\n",
    "    def calculate_salary(self):\n",
    "        return self.hours_worked * self.hourly_rate\n",
    "    \n",
    "employees = [\n",
    "    FullTimeEmployee(50000),\n",
    "    PartTimeEmployee(120,200)\n",
    "]\n",
    "\n",
    "for emp in employees:\n",
    "    print(f\"Salary: {emp.calculate_salary()}\")"
   ]
  },
  {
   "cell_type": "code",
   "execution_count": 25,
   "id": "daa168e9",
   "metadata": {},
   "outputs": [
    {
     "name": "stdout",
     "output_type": "stream",
     "text": [
      "paid using the credit card\n",
      "Refund issued to Credit card\n",
      "Paid using UPI\n",
      "Refund issued to UPI wallet\n"
     ]
    }
   ],
   "source": [
    "from abc import ABC, abstractmethod\n",
    "class Payment(ABC):\n",
    "    @abstractmethod\n",
    "    def pay(self):\n",
    "        pass\n",
    "\n",
    "    @abstractmethod\n",
    "    def refund(self):\n",
    "        pass\n",
    "\n",
    "class CreditCardPayment(Payment):\n",
    "    def pay(self):\n",
    "        print(\"paid using the credit card\")\n",
    "    def refund(self):\n",
    "        print(\"Refund issued to Credit card\")\n",
    "\n",
    "class UPIPayment(Payment):\n",
    "    def pay(self):\n",
    "        print(\"Paid using UPI\")\n",
    "    def refund(self):\n",
    "        print(\"Refund issued to UPI wallet\")\n",
    "\n",
    "payments = [CreditCardPayment(), UPIPayment()]\n",
    "for payment in payments:\n",
    "    payment.pay()\n",
    "    payment.refund()"
   ]
  },
  {
   "cell_type": "code",
   "execution_count": null,
   "id": "53ac6de2",
   "metadata": {},
   "outputs": [],
   "source": []
  }
 ],
 "metadata": {
  "kernelspec": {
   "display_name": "Python 3",
   "language": "python",
   "name": "python3"
  },
  "language_info": {
   "codemirror_mode": {
    "name": "ipython",
    "version": 3
   },
   "file_extension": ".py",
   "mimetype": "text/x-python",
   "name": "python",
   "nbconvert_exporter": "python",
   "pygments_lexer": "ipython3",
   "version": "3.10.12"
  }
 },
 "nbformat": 4,
 "nbformat_minor": 5
}
