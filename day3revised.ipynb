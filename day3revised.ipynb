{
 "cells": [
  {
   "cell_type": "code",
   "execution_count": 1,
   "id": "ec2618bc",
   "metadata": {},
   "outputs": [
    {
     "name": "stdout",
     "output_type": "stream",
     "text": [
      "{'name': 'Ravi', 'age': 30}\n"
     ]
    }
   ],
   "source": [
    "import json\n",
    "person = {\"name\":\"Ravi\",\n",
    "          \"age\":30}\n",
    "with open(\"person.json\",\"w\") as f:\n",
    "    json.dump(person,f)\n",
    "with open(\"person.json\",\"r\") as f:\n",
    "    data = json.load(f)\n",
    "print(data)"
   ]
  },
  {
   "cell_type": "code",
   "execution_count": 2,
   "id": "ab1e58e2",
   "metadata": {},
   "outputs": [
    {
     "name": "stdout",
     "output_type": "stream",
     "text": [
      "JSON string\n",
      "{\n",
      "    \"name\": \"mark\",\n",
      "    \"age\": 25,\n",
      "    \"skills\": [\n",
      "        \"Python\",\n",
      "        \"Azure\"\n",
      "    ]\n",
      "}\n"
     ]
    }
   ],
   "source": [
    "import json\n",
    "person = {\"name\":\"mark\",\"age\":25,\"skills\":[\"Python\",\"Azure\"]}\n",
    "json_string = json.dumps(person,indent=4)\n",
    "print(\"JSON string\")\n",
    "print(json_string)\n"
   ]
  },
  {
   "cell_type": "code",
   "execution_count": 3,
   "id": "f8be72f1",
   "metadata": {},
   "outputs": [
    {
     "name": "stdout",
     "output_type": "stream",
     "text": [
      "['Name', 'Age']\n",
      "['Keerthana', '23']\n"
     ]
    }
   ],
   "source": [
    "import csv\n",
    "\n",
    "with open(\"students.csv\",\"w\",newline=\"\") as f:\n",
    "    wr = csv.writer(f)\n",
    "    wr.writerow([\"Name\",\"Age\"])\n",
    "    wr.writerow([\"Keerthana\",23])\n",
    "with open(\"students.csv\",\"r\") as f:\n",
    "    rd = csv.reader(f)\n",
    "    for row in rd:\n",
    "        print(row)\n"
   ]
  },
  {
   "cell_type": "code",
   "execution_count": 4,
   "id": "038c994b",
   "metadata": {},
   "outputs": [
    {
     "name": "stdout",
     "output_type": "stream",
     "text": [
      "CSV file created successfully\n",
      "['Name', 'Age', 'City']\n",
      "[\"['Samatha', 50, 'Hyderabad']\", \"['Keerthana', 23, 'Chennai']\", \"['Ravi', 30, 'Hyderabad']\"]\n"
     ]
    }
   ],
   "source": [
    "header = [\"Name\",\"Age\",\"City\"]\n",
    "rows = [[\"Samatha\",50,\"Hyderabad\"],[\"Keerthana\",23,\"Chennai\"],[\n",
    "    \"Ravi\",30,\"Hyderabad\"]\n",
    "]\n",
    "with open(\"people.csv\",\"w\",newline=\"\") as f:\n",
    "    wr = csv.writer(f)\n",
    "    wr.writerow(header)\n",
    "    wr.writerow(rows)\n",
    "print(\"CSV file created successfully\")\n",
    "with open(\"people.csv\",\"r\") as f:\n",
    "    rd = csv.reader(f)\n",
    "    for row in rd:\n",
    "        print(row)"
   ]
  },
  {
   "cell_type": "code",
   "execution_count": null,
   "id": "9c075a2a",
   "metadata": {},
   "outputs": [],
   "source": [
    "import json\n",
    "import os\n",
    "\n",
    "#file path\n",
    "file_path = \"books.json\"\n",
    "\n",
    "#Function to load all books\n",
    "def load_books():\n",
    "    if not os.path.exists(file_path):\n",
    "        return []\n",
    "    try:\n",
    "        with open(file_path,'r') as f:\n",
    "            return json.load(f)\n",
    "    except Exception as e:\n",
    "        print(\"Error reading books: \",e)\n",
    "        return []\n",
    "\n",
    "#Function to save all books\n",
    "def save_books(books):\n",
    "    try:\n",
    "        with open(file_path,\"w\") as f:\n",
    "            json.dump(books,f,indent=4)\n",
    "        print(\"Books saved successfully\")\n",
    "    except Exception as e:\n",
    "        print(\"Error saving books: \",e)\n",
    "\n",
    "    #Function to add a book\n",
    "def add_book():\n",
    "    title = input(\"Enter book title: \")\n",
    "    author = input(\"Enter author name: \")\n",
    "    books = load_books()\n",
    "    books.append({\"title\":title,\"author\":author})\n",
    "    save_books(books)\n",
    "    print(f\"Book '{title}' added successfully\")\n",
    "\n",
    "#Function to view all books\n",
    "def view_books():\n",
    "    books = load_books()\n",
    "    if not books:\n",
    "        print(\"No books found\")\n",
    "        return\n",
    "    for idx, book in enumerate(books,start = 1):\n",
    "        print(f\"{idx}. Title: {book['title']}, Author:{book['author']}\")\n",
    "\n",
    "#Function to delete books\n",
    "def delete_book():\n",
    "    books = load_books()\n",
    "    if not books:\n",
    "        print(\"No books to delete\")\n",
    "        return\n",
    "    view_books()\n",
    "    try:\n",
    "        index = int(input(\"Enter the number of the book to delete\"))\n",
    "        if 1 <= index <= len(books):\n",
    "            removed = books.pop(index - 1)\n",
    "            save_books(books)\n",
    "            print(f\"Book '{removed['title']} deleted successfully\")\n",
    "        else:\n",
    "            print(\"Invalid number\")\n",
    "    except ValueError:\n",
    "        print(\"Please enter a valid number \")\n",
    "\n",
    "\n",
    "def main():\n",
    "    while True:\n",
    "        print(\"\\n Book Management (JSON)\")\n",
    "        print(\"1. Add Book\")\n",
    "        print(\"2. View Books\")\n",
    "        print(\"3. Delete Books\")\n",
    "        print(\"4. Exit\")\n",
    "        choice = input(\"Enter choice: \")\n",
    "\n",
    "        if choice == \"1\":\n",
    "            add_book()\n",
    "        elif choice == \"2\":\n",
    "            view_books()\n",
    "        elif choice == \"3\":\n",
    "            delete_book()\n",
    "        elif choice == \"4\":\n",
    "            print (\"Exiting program\")\n",
    "            break\n",
    "        else: \n",
    "            print(\"Invalid choice. Try again. \")\n",
    "\n",
    "if __name__ == \"__main__\":\n",
    "    main()\n",
    "\n"
   ]
  }
 ],
 "metadata": {
  "kernelspec": {
   "display_name": "Python 3",
   "language": "python",
   "name": "python3"
  },
  "language_info": {
   "codemirror_mode": {
    "name": "ipython",
    "version": 3
   },
   "file_extension": ".py",
   "mimetype": "text/x-python",
   "name": "python",
   "nbconvert_exporter": "python",
   "pygments_lexer": "ipython3",
   "version": "3.10.12"
  }
 },
 "nbformat": 4,
 "nbformat_minor": 5
}
